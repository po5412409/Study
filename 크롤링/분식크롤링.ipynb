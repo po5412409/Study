{
 "cells": [
  {
   "cell_type": "markdown",
   "metadata": {},
   "source": [
    "금융위원회 보도자료에서 검색조건 사업보고서인 자료 다운로드"
   ]
  },
  {
   "cell_type": "code",
   "execution_count": 1,
   "metadata": {},
   "outputs": [
    {
     "name": "stderr",
     "output_type": "stream",
     "text": [
      "c:\\Users\\Master\\anaconda3\\lib\\site-packages\\pandas\\core\\arrays\\masked.py:60: UserWarning: Pandas requires version '1.3.6' or newer of 'bottleneck' (version '1.3.5' currently installed).\n",
      "  from pandas.core import (\n"
     ]
    }
   ],
   "source": [
    "import requests\n",
    "from bs4 import BeautifulSoup\n",
    "import pandas as pd\n",
    "\n",
    "from selenium import webdriver\n",
    "from selenium.webdriver.chrome.service import Service\n",
    "from selenium.webdriver.common.by import By\n",
    "\n",
    "# selenium으로 키를 조작하기 위한 import\n",
    "from selenium.webdriver.common.keys import Keys\n",
    "\n",
    "from selenium.webdriver.support.ui import WebDriverWait\n",
    "from selenium.webdriver.support import expected_conditions as EC\n",
    "\n",
    "# 페이지 로딩을 기다리는데에 사용할 time 모듈 import\n",
    "import time"
   ]
  },
  {
   "cell_type": "code",
   "execution_count": 6,
   "metadata": {},
   "outputs": [],
   "source": [
    "driver = webdriver.Chrome()\n",
    "\n",
    "#크롬 드라이버에 url 주소 넣고 실행\n",
    "driver.get('https://www.fsc.go.kr/no010101')\n",
    "\n",
    "# 페이지가 완전히 로딩되도록 3초동안 기다림\n",
    "time.sleep(3)"
   ]
  },
  {
   "cell_type": "code",
   "execution_count": 7,
   "metadata": {},
   "outputs": [],
   "source": [
    "# 검색창 요소 찾기\n",
    "search_box = driver.find_element(By.ID, 'srchText')\n",
    "\n",
    "# 검색어 입력\n",
    "search_box.send_keys('사업보고서')\n",
    "\n",
    "# 검색 실행 (엔터 키 입력)\n",
    "search_box.send_keys(Keys.RETURN)\n",
    "\n",
    "# 결과 페이지가 로드될 때까지 대기 (필요시 조정)\n",
    "time.sleep(5)"
   ]
  },
  {
   "cell_type": "code",
   "execution_count": 8,
   "metadata": {},
   "outputs": [
    {
     "name": "stdout",
     "output_type": "stream",
     "text": [
      "Page 1: 모든 PDF 파일을 다운로드했습니다.\n",
      "Page 2: 모든 PDF 파일을 다운로드했습니다.\n",
      "Page 3: 모든 PDF 파일을 다운로드했습니다.\n",
      "Page 4: 모든 PDF 파일을 다운로드했습니다.\n",
      "Page 5: 모든 PDF 파일을 다운로드했습니다.\n",
      "Page 6: 모든 PDF 파일을 다운로드했습니다.\n",
      "Page 7: 모든 PDF 파일을 다운로드했습니다.\n",
      "Page 8: 모든 PDF 파일을 다운로드했습니다.\n",
      "Page 9: 모든 PDF 파일을 다운로드했습니다.\n",
      "Page 10: 모든 PDF 파일을 다운로드했습니다.\n",
      "더 이상 페이지가 없습니다. 작업을 종료합니다.\n"
     ]
    }
   ],
   "source": [
    "# 다운로드한 파일들의 URL을 저장할 집합\n",
    "downloaded_files = set()\n",
    "\n",
    "# 페이지 탐색 변수\n",
    "cur_page = 1\n",
    "\n",
    "while True:\n",
    "    try:\n",
    "        # 파일 리스트 요소 찾기\n",
    "        file_list_divs = driver.find_elements(By.XPATH, '//div[@class=\"file-list\"]')\n",
    "\n",
    "        # PDF 파일 링크 필터링 및 다운로드\n",
    "        pdf_download_links = []\n",
    "        for file_div in file_list_divs:\n",
    "            file_name_span = file_div.find_element(By.XPATH, './/span[@class=\"name\"]')\n",
    "            if 'pdf' in file_name_span.text.lower():\n",
    "                download_link = file_div.find_element(By.XPATH, './/span[@class=\"ico download\"]/a')\n",
    "                download_url = download_link.get_attribute('href')\n",
    "                if download_url not in downloaded_files:\n",
    "                    pdf_download_links.append(download_link)\n",
    "                    downloaded_files.add(download_url)\n",
    "\n",
    "        # 더 이상 다운로드할 PDF 링크가 없으면 다음 페이지로 이동\n",
    "        if not pdf_download_links:\n",
    "            print(f\"Page {cur_page}: 모든 PDF 파일을 다운로드했습니다.\")\n",
    "\n",
    "            # 다음 페이지로 이동\n",
    "            cur_page += 1\n",
    "            next_page_xpath = f'//a[@title=\"{cur_page} Page\"]'\n",
    "            next_page_link = driver.find_elements(By.XPATH, next_page_xpath)\n",
    "            \n",
    "            if next_page_link:\n",
    "                next_page_link[0].click()\n",
    "                time.sleep(5)  # 다음 페이지 로드 대기\n",
    "                continue\n",
    "            else:\n",
    "                print(\"더 이상 페이지가 없습니다. 작업을 종료합니다.\")\n",
    "                break\n",
    "\n",
    "        # PDF 다운로드 링크 클릭\n",
    "        for link in pdf_download_links:\n",
    "            link.click()\n",
    "            time.sleep(2)  # 파일 다운로드 시간을 고려해 대기 시간 조정\n",
    "\n",
    "    except Exception as e:\n",
    "        print(f\"오류 발생: {e}\")\n",
    "        break"
   ]
  },
  {
   "cell_type": "code",
   "execution_count": 9,
   "metadata": {},
   "outputs": [],
   "source": [
    "# 브라우저 닫기\n",
    "driver.quit()"
   ]
  },
  {
   "cell_type": "markdown",
   "metadata": {},
   "source": [
    "다운로드한 pdf파일에서 파이썬을 통해 자동화를 사용해서 기업명, 분식방법 추출"
   ]
  },
  {
   "cell_type": "markdown",
   "metadata": {},
   "source": [
    "2. 구글에서 분식 관련 단어 검색으로 기사 크롤링 -> 기사 안에서 기업명 추출"
   ]
  },
  {
   "cell_type": "code",
   "execution_count": 1,
   "metadata": {},
   "outputs": [
    {
     "name": "stderr",
     "output_type": "stream",
     "text": [
      "c:\\Users\\Master\\anaconda3\\lib\\site-packages\\pandas\\core\\arrays\\masked.py:60: UserWarning: Pandas requires version '1.3.6' or newer of 'bottleneck' (version '1.3.5' currently installed).\n",
      "  from pandas.core import (\n"
     ]
    }
   ],
   "source": [
    "import requests\n",
    "from bs4 import BeautifulSoup\n",
    "import pandas as pd\n",
    "\n",
    "from selenium import webdriver\n",
    "from selenium.webdriver.chrome.service import Service\n",
    "from selenium.webdriver.common.by import By\n",
    "\n",
    "# selenium으로 키를 조작하기 위한 import\n",
    "from selenium.webdriver.common.keys import Keys\n",
    "\n",
    "from selenium.webdriver.support.ui import WebDriverWait\n",
    "from selenium.webdriver.support import expected_conditions as EC\n",
    "\n",
    "# 페이지 로딩을 기다리는데에 사용할 time 모듈 import\n",
    "import time"
   ]
  },
  {
   "cell_type": "code",
   "execution_count": 25,
   "metadata": {},
   "outputs": [],
   "source": [
    "driver = webdriver.Chrome()\n",
    "\n",
    "#크롬 드라이버에 url 주소 넣고 실행\n",
    "driver.get('https://www.google.co.kr/')\n",
    "\n",
    "# 페이지가 완전히 로딩되도록 3초동안 기다림\n",
    "time.sleep(3)"
   ]
  },
  {
   "cell_type": "code",
   "execution_count": 26,
   "metadata": {},
   "outputs": [],
   "source": [
    "# 검색창을 찾습니다.\n",
    "search_box = driver.find_element(By.NAME, 'q')\n",
    "\n",
    "# 검색어를 입력합니다.\n",
    "search_box.send_keys('분식회계')\n",
    "\n",
    "# 엔터 키를 눌러 검색을 실행합니다.\n",
    "search_box.send_keys(Keys.RETURN)\n",
    "\n",
    "# 잠시 대기합니다. (검색 결과 페이지가 로딩될 시간을 줍니다.)\n",
    "time.sleep(3)"
   ]
  },
  {
   "cell_type": "code",
   "execution_count": 18,
   "metadata": {},
   "outputs": [],
   "source": [
    "# 뉴스 아이콘을 클릭합니다.\n",
    "news_icon = driver.find_element(By.XPATH, '//div[@jsname=\"bVqjv\" and contains(text(), \"뉴스\")]')\n",
    "news_icon.click()\n",
    "\n",
    "# 크롤링할 데이터를 저장할 리스트 초기화\n",
    "titles = []\n",
    "urls = []\n",
    "\n",
    "# 크롤링 수행\n",
    "while True:\n",
    "    try:\n",
    "        # 뉴스 기사 제목과 URL 추출\n",
    "        articles = driver.find_elements(By.XPATH, '//a[@jsname=\"YKoRaf\"]')\n",
    "        for article in articles:\n",
    "            title_element = article.find_element(By.XPATH, './/div[@role=\"heading\"]')\n",
    "            title = title_element.text\n",
    "            url = article.get_attribute('href')\n",
    "            titles.append(title)\n",
    "            urls.append(url)\n",
    "\n",
    "        # 다음 페이지로 이동\n",
    "        next_button = driver.find_elements(By.XPATH, '//a[@aria-label=\"다음 페이지\"]')\n",
    "        if next_button:\n",
    "            next_button[0].click()\n",
    "            time.sleep(3)  # 페이지 로드 대기\n",
    "        else:\n",
    "            break  # 다음 페이지 버튼이 없으면 종료\n",
    "    except Exception as e:\n",
    "        print(f\"오류 발생: {e}\")\n",
    "        break"
   ]
  },
  {
   "cell_type": "code",
   "execution_count": 34,
   "metadata": {},
   "outputs": [],
   "source": [
    "# 뉴스 아이콘을 클릭합니다.\n",
    "news_icon = driver.find_element(By.XPATH, '//div[@jsname=\"bVqjv\" and contains(text(), \"뉴스\")]')\n",
    "news_icon.click()\n",
    "\n",
    "# 크롤링할 데이터를 저장할 리스트 초기화\n",
    "titles = []\n",
    "urls = []\n",
    "\n",
    "# 현재 페이지 번호\n",
    "page_number = 1\n",
    "\n",
    "# 크롤링 수행\n",
    "while True:\n",
    "    try:\n",
    "        # 뉴스 기사 제목과 URL 추출\n",
    "        articles = driver.find_elements(By.XPATH, '//a[@jsname=\"YKoRaf\"]')\n",
    "        for article in articles:\n",
    "            title_element = article.find_element(By.XPATH, './/div[@role=\"heading\"]')\n",
    "            title = title_element.text\n",
    "            url = article.get_attribute('href')\n",
    "            titles.append(title)\n",
    "            urls.append(url)\n",
    "        \n",
    "        # 다음 페이지로 이동\n",
    "        page_number += 1\n",
    "        next_button = driver.find_elements(By.XPATH, f'//a[@aria-label=\"Page {page_number}\"]')\n",
    "        if next_button:\n",
    "            driver.execute_script(\"arguments[0].click();\", next_button[0])\n",
    "            time.sleep(3)  # 페이지 로드 대기\n",
    "        else:\n",
    "            break  # 다음 페이지 버튼이 없으면 종료\n",
    "    except Exception as e:\n",
    "        print(f\"오류 발생: {e}\")\n",
    "        break"
   ]
  },
  {
   "cell_type": "code",
   "execution_count": 35,
   "metadata": {},
   "outputs": [],
   "source": [
    "# 데이터프레임 생성\n",
    "df = pd.DataFrame({'Title': titles, 'URL': urls})"
   ]
  },
  {
   "cell_type": "code",
   "execution_count": 36,
   "metadata": {},
   "outputs": [
    {
     "data": {
      "text/html": [
       "<div>\n",
       "<style scoped>\n",
       "    .dataframe tbody tr th:only-of-type {\n",
       "        vertical-align: middle;\n",
       "    }\n",
       "\n",
       "    .dataframe tbody tr th {\n",
       "        vertical-align: top;\n",
       "    }\n",
       "\n",
       "    .dataframe thead th {\n",
       "        text-align: right;\n",
       "    }\n",
       "</style>\n",
       "<table border=\"1\" class=\"dataframe\">\n",
       "  <thead>\n",
       "    <tr style=\"text-align: right;\">\n",
       "      <th></th>\n",
       "      <th>Title</th>\n",
       "      <th>URL</th>\n",
       "    </tr>\n",
       "  </thead>\n",
       "  <tbody>\n",
       "    <tr>\n",
       "      <th>0</th>\n",
       "      <td>‘분식회계 의혹’ 카카오모빌리티 운명은?…제재 결론 늦어진다</td>\n",
       "      <td>https://www.khan.co.kr/economy/industry-trade/...</td>\n",
       "    </tr>\n",
       "    <tr>\n",
       "      <th>1</th>\n",
       "      <td>한때 잘나갔던 기업들의 회계 거짓말</td>\n",
       "      <td>https://www.taxwatch.co.kr/article/tax/2024/07...</td>\n",
       "    </tr>\n",
       "    <tr>\n",
       "      <th>2</th>\n",
       "      <td>구속 기로 카카오 김범수…'분식회계' 모빌리티 제재 임박</td>\n",
       "      <td>https://biz.sbs.co.kr/article/20000182200</td>\n",
       "    </tr>\n",
       "    <tr>\n",
       "      <th>3</th>\n",
       "      <td>증선위, 코넥스 상장사 씨앗 검찰 고발…분식회계·횡령 은폐 등</td>\n",
       "      <td>https://m.dnews.co.kr/m_home/view.jsp?idxno=20...</td>\n",
       "    </tr>\n",
       "    <tr>\n",
       "      <th>4</th>\n",
       "      <td>\"2000억 날리고 직원도 떠났다\"…'100조' 분식회계 후폭풍</td>\n",
       "      <td>https://www.hankyung.com/article/202407054056i</td>\n",
       "    </tr>\n",
       "    <tr>\n",
       "      <th>...</th>\n",
       "      <td>...</td>\n",
       "      <td>...</td>\n",
       "    </tr>\n",
       "    <tr>\n",
       "      <th>295</th>\n",
       "      <td>서울중앙지검, '분식회계 혐의' 대우산업개발 압수수색</td>\n",
       "      <td>https://www.yna.co.kr/view/PYH20230413080000013</td>\n",
       "    </tr>\n",
       "    <tr>\n",
       "      <th>296</th>\n",
       "      <td>中 러킨커피, 점포 1만점 목전...\"분식회계 오명 털고 성장구가\"</td>\n",
       "      <td>https://www.newspim.com/news/view/20230505000067</td>\n",
       "    </tr>\n",
       "    <tr>\n",
       "      <th>297</th>\n",
       "      <td>[로펌의기술](84) ‘허위 공시’ 대한전선, 주주 손해배상 금액 다시 따져야......</td>\n",
       "      <td>https://biz.chosun.com/topics/law_firm/2022/10...</td>\n",
       "    </tr>\n",
       "    <tr>\n",
       "      <th>298</th>\n",
       "      <td>대법 \"'분식회계' 대한전선·안진회계, 주주들에 손해배상하라\"</td>\n",
       "      <td>https://www.newspim.com/news/view/20221011000257</td>\n",
       "    </tr>\n",
       "    <tr>\n",
       "      <th>299</th>\n",
       "      <td>현대건설은 분식회계를 왜 했을까?</td>\n",
       "      <td>https://www.ekoreanews.co.kr/news/articleView....</td>\n",
       "    </tr>\n",
       "  </tbody>\n",
       "</table>\n",
       "<p>300 rows × 2 columns</p>\n",
       "</div>"
      ],
      "text/plain": [
       "                                                 Title  \\\n",
       "0                    ‘분식회계 의혹’ 카카오모빌리티 운명은?…제재 결론 늦어진다   \n",
       "1                                  한때 잘나갔던 기업들의 회계 거짓말   \n",
       "2                      구속 기로 카카오 김범수…'분식회계' 모빌리티 제재 임박   \n",
       "3                   증선위, 코넥스 상장사 씨앗 검찰 고발…분식회계·횡령 은폐 등   \n",
       "4                  \"2000억 날리고 직원도 떠났다\"…'100조' 분식회계 후폭풍   \n",
       "..                                                 ...   \n",
       "295                      서울중앙지검, '분식회계 혐의' 대우산업개발 압수수색   \n",
       "296              中 러킨커피, 점포 1만점 목전...\"분식회계 오명 털고 성장구가\"   \n",
       "297  [로펌의기술](84) ‘허위 공시’ 대한전선, 주주 손해배상 금액 다시 따져야......   \n",
       "298                 대법 \"'분식회계' 대한전선·안진회계, 주주들에 손해배상하라\"   \n",
       "299                                 현대건설은 분식회계를 왜 했을까?   \n",
       "\n",
       "                                                   URL  \n",
       "0    https://www.khan.co.kr/economy/industry-trade/...  \n",
       "1    https://www.taxwatch.co.kr/article/tax/2024/07...  \n",
       "2            https://biz.sbs.co.kr/article/20000182200  \n",
       "3    https://m.dnews.co.kr/m_home/view.jsp?idxno=20...  \n",
       "4       https://www.hankyung.com/article/202407054056i  \n",
       "..                                                 ...  \n",
       "295    https://www.yna.co.kr/view/PYH20230413080000013  \n",
       "296   https://www.newspim.com/news/view/20230505000067  \n",
       "297  https://biz.chosun.com/topics/law_firm/2022/10...  \n",
       "298   https://www.newspim.com/news/view/20221011000257  \n",
       "299  https://www.ekoreanews.co.kr/news/articleView....  \n",
       "\n",
       "[300 rows x 2 columns]"
      ]
     },
     "execution_count": 36,
     "metadata": {},
     "output_type": "execute_result"
    }
   ],
   "source": [
    "df"
   ]
  },
  {
   "cell_type": "code",
   "execution_count": 38,
   "metadata": {},
   "outputs": [],
   "source": [
    "#df.to_csv('분식기업크롤링.csv', encoding='utf-8-sig', index = False)"
   ]
  },
  {
   "cell_type": "code",
   "execution_count": 39,
   "metadata": {},
   "outputs": [],
   "source": [
    "driver.quit()"
   ]
  }
 ],
 "metadata": {
  "kernelspec": {
   "display_name": "base",
   "language": "python",
   "name": "python3"
  },
  "language_info": {
   "codemirror_mode": {
    "name": "ipython",
    "version": 3
   },
   "file_extension": ".py",
   "mimetype": "text/x-python",
   "name": "python",
   "nbconvert_exporter": "python",
   "pygments_lexer": "ipython3",
   "version": "3.10.9"
  }
 },
 "nbformat": 4,
 "nbformat_minor": 2
}
