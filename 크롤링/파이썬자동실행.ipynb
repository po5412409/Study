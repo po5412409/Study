{
 "cells": [
  {
   "cell_type": "markdown",
   "metadata": {},
   "source": [
    "#### 원하는 시간마다 파이썬 자동 실행"
   ]
  },
  {
   "cell_type": "code",
   "execution_count": 2,
   "metadata": {},
   "outputs": [
    {
     "name": "stdout",
     "output_type": "stream",
     "text": [
      "Collecting schedule\n",
      "  Downloading schedule-1.2.2-py3-none-any.whl (12 kB)\n",
      "Installing collected packages: schedule\n",
      "Successfully installed schedule-1.2.2\n"
     ]
    }
   ],
   "source": [
    "# !pip install schedule"
   ]
  },
  {
   "cell_type": "code",
   "execution_count": 3,
   "metadata": {},
   "outputs": [],
   "source": [
    "import schedule\n",
    "import time"
   ]
  },
  {
   "cell_type": "markdown",
   "metadata": {},
   "source": [
    "##### 시, 분, 초 단위로 실행\n",
    "* 5초에 한번씩 함수 실행: \n",
    "schedule.every(5).seconds.do(함수)\n",
    "\n",
    "* 10분에 한번씩 함수 실행: \n",
    "schedule.every(10).minutes.do(함수)\n",
    "\n",
    "* 2시간에 한번씩 함수 실행: \n",
    "schedule.every(2).hour.do(함수)\n",
    "\n",
    "##### 일, 주 단위로 실행\n",
    "* 3일에 한번씩 함수 실행: \n",
    "schedule.every(3).days.do(함수)\n",
    "\n",
    "* 2주에 한번씩 함수 실행: \n",
    "schedule.every(2).weeks.do(함수)\n",
    "\n",
    "##### 매일 정해진 시간에 실행\n",
    "* 매일 13시 30분에 함수 실행: \n",
    "schedule.every().day.at(\"13:30\").do(함수)\n",
    "\n",
    "* 매일 \"11:11:11\"에 함수 실행: \n",
    "schedule.every().day.at(\"11:11:11\").do(함수)\n",
    "\n",
    "##### 매일 정해진 요일의 특정 시간에 실행\n",
    "* 매주 월요일 13시 30분에 함수 실행: \n",
    "schedule.every().monday.at(\"13:30\").do(함수)"
   ]
  },
  {
   "cell_type": "markdown",
   "metadata": {},
   "source": [
    "#### 크롤링 실시하는 예제"
   ]
  },
  {
   "cell_type": "code",
   "execution_count": null,
   "metadata": {},
   "outputs": [],
   "source": [
    "import schedule\n",
    "import time\n",
    "import requests\n",
    "from bs4 import BeautifulSoup\n",
    "\n",
    "def crawl():\n",
    "    url = 'http://example.com'\n",
    "    response = requests.get(url)\n",
    "    soup = BeautifulSoup(response.content, 'html.parser')\n",
    "    # 원하는 데이터 추출 코드\n",
    "    print(\"크롤링 완료\")\n",
    "\n",
    "# 매일 오전 9시에 크롤링 작업 수행\n",
    "schedule.every().day.at(\"09:00\").do(crawl)\n",
    "\n",
    "while True:\n",
    "    schedule.run_pending()\n",
    "    time.sleep(1)"
   ]
  },
  {
   "cell_type": "code",
   "execution_count": null,
   "metadata": {},
   "outputs": [],
   "source": []
  }
 ],
 "metadata": {
  "kernelspec": {
   "display_name": "base",
   "language": "python",
   "name": "python3"
  },
  "language_info": {
   "codemirror_mode": {
    "name": "ipython",
    "version": 3
   },
   "file_extension": ".py",
   "mimetype": "text/x-python",
   "name": "python",
   "nbconvert_exporter": "python",
   "pygments_lexer": "ipython3",
   "version": "3.10.9"
  }
 },
 "nbformat": 4,
 "nbformat_minor": 2
}
